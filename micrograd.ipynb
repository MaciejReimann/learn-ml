{
 "cells": [
  {
   "cell_type": "markdown",
   "metadata": {},
   "source": [
    "Source: [The spelled-out intro to neural networks and backpropagation: building micrograd\n",
    "](https://www.youtube.com/watch?v=VMj-3S1tku0&t=1249s&ab_channel=AndrejKarpathy)\n",
    "\n",
    "#### What is Autograd and why is it interesting? \n",
    "Micrograd is an Autograd (short for automatic gradient) engine. It implements back propagation, an algorithm that allows to evaluate the gradient of some sort of loss function with respect to the weights of a neural network and therefore improve the accuracy of the network. \n",
    "\n",
    "Neural networks are just mathematical expressions: they take the input data as an input from one side and the weights of the neural network as an input, and the output are the predictions of the neural network or the loss function. \n",
    "\n",
    "Back propagation is significantly more general. It doesn't care about neural networks, but we happen to use this machinery to train neural networks. \n",
    "\n",
    "Micrograd is a scalar values autograd engine. If we want to train bigger networks we have to be using tensors, but none of the math changes, this is done purely for efficiency. Making operations on large arrays allows us to take advantage of the parallelism in the computer. It may not be pedagogically useful to be dealing with tensors from scratch. "
   ]
  },
  {
   "cell_type": "markdown",
   "metadata": {},
   "source": [
    "#### What a derivative is and what information does it bring?"
   ]
  },
  {
   "cell_type": "code",
   "execution_count": 2,
   "metadata": {},
   "outputs": [],
   "source": [
    "import math\n",
    "import numpy as np\n",
    "import matplotlib.pyplot as plt\n",
    "%matplotlib inline"
   ]
  }
 ],
 "metadata": {
  "kernelspec": {
   "display_name": "mlenv",
   "language": "python",
   "name": "python3"
  },
  "language_info": {
   "codemirror_mode": {
    "name": "ipython",
    "version": 3
   },
   "file_extension": ".py",
   "mimetype": "text/x-python",
   "name": "python",
   "nbconvert_exporter": "python",
   "pygments_lexer": "ipython3",
   "version": "3.13.3"
  }
 },
 "nbformat": 4,
 "nbformat_minor": 2
}
