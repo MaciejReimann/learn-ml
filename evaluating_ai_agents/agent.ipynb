{
 "cells": [
  {
   "cell_type": "code",
   "execution_count": 1,
   "metadata": {},
   "outputs": [],
   "source": [
    "from openai import OpenAI\n",
    "import pandas as pd\n",
    "import json\n",
    "import duckdb\n",
    "from pydantic import BaseModel, Field\n",
    "from IPython.display import Markdown\n",
    "\n",
    "from helper import get_openai_api_key"
   ]
  },
  {
   "cell_type": "code",
   "execution_count": 2,
   "metadata": {},
   "outputs": [],
   "source": [
    "openai_api_key = get_openai_api_key()\n",
    "client = OpenAI(api_key=openai_api_key)\n",
    "\n",
    "MODEL = \"gpt-4o-mini\""
   ]
  },
  {
   "cell_type": "code",
   "execution_count": 3,
   "metadata": {},
   "outputs": [],
   "source": [
    "TRANSACTION_DATA_FILE_PATH = \"data/Store_Sales_Price_Elasticity_Promotions_Data.parquet\""
   ]
  },
  {
   "cell_type": "code",
   "execution_count": 4,
   "metadata": {},
   "outputs": [],
   "source": [
    "# prompt template for step 2 of tool 1\n",
    "SQL_GENERATION_PROMPT = \"\"\"\n",
    "Generate an SQL query based on a prompt. Do not reply with anything besides the SQL query.\n",
    "The prompt is: {prompt}\n",
    "\n",
    "The available columns are: {columns}\n",
    "The table name is: {table_name}\n",
    "\"\"\""
   ]
  },
  {
   "cell_type": "code",
   "execution_count": 5,
   "metadata": {},
   "outputs": [],
   "source": [
    "# code for step 2 of tool 1\n",
    "def generate_sql_query(prompt: str, columns: list, table_name: str) -> str:\n",
    "    \"\"\"Generate an SQL query based on a prompt\"\"\"\n",
    "    formatted_prompt = SQL_GENERATION_PROMPT.format(\n",
    "        prompt=prompt, columns=columns, table_name=table_name\n",
    "    )\n",
    "\n",
    "    response = client.chat.completions.create(\n",
    "        model=MODEL,\n",
    "        messages=[{\"role\": \"user\", \"content\": formatted_prompt}],\n",
    "    )\n",
    "\n",
    "    return response.choices[0].message.content"
   ]
  },
  {
   "cell_type": "code",
   "execution_count": 6,
   "metadata": {},
   "outputs": [],
   "source": [
    "# code for tool 1\n",
    "def lookup_sales_data(prompt: str) -> str:\n",
    "    \"\"\"Implementation of sales data lookup from parquet file using SQL\"\"\"\n",
    "    try:\n",
    "\n",
    "        # define the table name\n",
    "        table_name = \"sales\"\n",
    "\n",
    "        # step 1: read the parquet file into a DuckDB table\n",
    "        df = pd.read_parquet(TRANSACTION_DATA_FILE_PATH)\n",
    "        duckdb.sql(f\"CREATE TABLE IF NOT EXISTS {table_name} AS SELECT * FROM df\")\n",
    "\n",
    "        # step 2: generate the SQL code\n",
    "        sql_query = generate_sql_query(prompt, df.columns, table_name)\n",
    "        # clean the response to make sure it only includes the SQL code\n",
    "        sql_query = sql_query.strip()\n",
    "        sql_query = sql_query.replace(\"```sql\", \"\").replace(\"```\", \"\")\n",
    "\n",
    "        # step 3: execute the SQL query\n",
    "        result = duckdb.sql(sql_query).df()\n",
    "\n",
    "        return result.to_string()\n",
    "    except Exception as e:\n",
    "        return f\"Error accessing data: {str(e)}\""
   ]
  },
  {
   "cell_type": "code",
   "execution_count": 7,
   "metadata": {},
   "outputs": [
    {
     "name": "stdout",
     "output_type": "stream",
     "text": [
      "    Store_Number  SKU_Coded  Product_Class_Code  Sold_Date  Qty_Sold  Total_Sale_Value  On_Promo\n",
      "0           1320    6173050               22875 2021-11-01         1          4.990000         0\n",
      "1           1320    6174250               22875 2021-11-01         1          0.890000         0\n",
      "2           1320    6176200               22975 2021-11-01         2         99.980003         0\n",
      "3           1320    6176800               22800 2021-11-01         1         14.970000         0\n",
      "4           1320    6177250               22975 2021-11-01         1          6.890000         0\n",
      "5           1320    6177300               22800 2021-11-01         1          9.990000         0\n",
      "6           1320    6177350               22800 2021-11-01         2         16.980000         0\n",
      "7           1320    6177700               22875 2021-11-01         1          3.190000         0\n",
      "8           1320    6178000               22875 2021-11-01         2          6.380000         0\n",
      "9           1320    6178250               22800 2021-11-01         1         16.590000         0\n",
      "10          1320    6179250               24400 2021-11-01         1         14.990000         0\n",
      "11          1320    6179300               22800 2021-11-01         2          9.980000         0\n",
      "12          1320    6179400               24400 2021-11-01         2         29.980000         0\n",
      "13          1320    6179450               24400 2021-11-01         1         14.990000         0\n",
      "14          1320    6179500               24400 2021-11-01         1         14.990000         0\n",
      "15          1320    6179750               22800 2021-11-01         2         39.980000         0\n",
      "16          1320    6180550               22975 2021-11-01         1         15.990000         0\n",
      "17          1320    6182050               22975 2021-11-01         1          7.990000         0\n",
      "18          1320    6183750               22850 2021-11-01         3         38.970001         0\n",
      "19          1320    6184100               22975 2021-11-01         3         59.970001         0\n",
      "20          1320    6188550               22950 2021-11-01         2         15.980000         0\n",
      "21          1320    6190050               24425 2021-11-01         5         19.950001         0\n",
      "22          1320    6190150               24425 2021-11-01         1          8.990000         0\n",
      "23          1320    6190200               24425 2021-11-01         1          8.990000         0\n",
      "24          1320    6190250               24425 2021-11-01         1          7.990000         0\n",
      "25          1320    6190350               22950 2021-11-01         1          6.990000         0\n",
      "26          1320    6190400               22950 2021-11-01         1          6.990000         0\n",
      "27          1320    6193750               22875 2021-11-01         1          6.990000         0\n",
      "28          1320    6195350               24375 2021-11-01         1         16.990000         0\n",
      "29          1320    6195800               22850 2021-11-01         3         25.719999         1\n"
     ]
    }
   ],
   "source": [
    "example_data = lookup_sales_data(\n",
    "    \"Show me all the sales for store 1320 on November 1st, 2021\"\n",
    ")\n",
    "print(example_data)"
   ]
  }
 ],
 "metadata": {
  "kernelspec": {
   "display_name": "mlenv",
   "language": "python",
   "name": "python3"
  },
  "language_info": {
   "codemirror_mode": {
    "name": "ipython",
    "version": 3
   },
   "file_extension": ".py",
   "mimetype": "text/x-python",
   "name": "python",
   "nbconvert_exporter": "python",
   "pygments_lexer": "ipython3",
   "version": "3.13.3"
  }
 },
 "nbformat": 4,
 "nbformat_minor": 2
}
